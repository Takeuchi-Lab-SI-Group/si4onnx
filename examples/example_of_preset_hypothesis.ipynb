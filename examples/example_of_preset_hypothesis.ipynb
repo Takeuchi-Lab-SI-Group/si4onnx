{
 "cells": [
  {
   "cell_type": "markdown",
   "metadata": {},
   "source": [
    "# Example of Preset Hypothesis with SI4ONNX\n",
    "## Import and Environment Setup"
   ]
  },
  {
   "cell_type": "code",
   "execution_count": 1,
   "metadata": {},
   "outputs": [],
   "source": [
    "import os\n",
    "import onnx\n",
    "import si4onnx\n",
    "import numpy as np\n",
    "import torch\n",
    "import torch.nn as nn\n",
    "import torch.nn.functional as F\n",
    "import torch.optim as optim\n",
    "from torch.utils.data import DataLoader\n",
    "\n",
    "# set seed\n",
    "torch.manual_seed(0)\n",
    "\n",
    "# set number of threads to 1\n",
    "torch.set_num_threads(1)\n",
    "os.environ[\"OMP_NUM_THREADS\"] = \"1\"\n",
    "os.environ[\"OPENBLAS_NUM_THREADS\"] = \"1\"\n",
    "os.environ[\"MKL_NUM_THREADS\"] = \"1\""
   ]
  },
  {
   "cell_type": "markdown",
   "metadata": {},
   "source": [
    "## Buliding a Model with Pytorch\n",
    "In this notebook, we will create a VAE."
   ]
  },
  {
   "cell_type": "code",
   "execution_count": 2,
   "metadata": {},
   "outputs": [
    {
     "name": "stdout",
     "output_type": "stream",
     "text": [
      "Epoch [1/16], Loss: 3974.9041\n",
      "Epoch [2/16], Loss: 3958.5926\n",
      "Epoch [3/16], Loss: 3955.4527\n",
      "Epoch [4/16], Loss: 3954.0861\n",
      "Epoch [5/16], Loss: 3956.2637\n",
      "Epoch [6/16], Loss: 3956.1935\n",
      "Epoch [7/16], Loss: 3955.1672\n",
      "Epoch [8/16], Loss: 3954.9629\n",
      "Epoch [9/16], Loss: 3954.7577\n",
      "Epoch [10/16], Loss: 3952.4784\n",
      "Epoch [11/16], Loss: 3953.3688\n",
      "Epoch [12/16], Loss: 3953.2159\n",
      "Epoch [13/16], Loss: 3954.2822\n",
      "Epoch [14/16], Loss: 3952.8706\n",
      "Epoch [15/16], Loss: 3952.8508\n",
      "Epoch [16/16], Loss: 3954.3623\n"
     ]
    }
   ],
   "source": [
    "device = torch.device(\"cpu\")\n",
    "\n",
    "class VAE(nn.Module):\n",
    "    def __init__(self, in_channels, latent_dim, img_size):\n",
    "        super(VAE, self).__init__()\n",
    "        self.latent_dim = latent_dim\n",
    "        self.img_size = img_size\n",
    "\n",
    "        # Encoder\n",
    "        self.encoder = nn.Sequential(\n",
    "            nn.Conv2d(in_channels, 16, kernel_size=3, stride=2, padding=1),\n",
    "            nn.ReLU(True),\n",
    "            nn.Conv2d(16, 32, kernel_size=3, stride=2, padding=1),\n",
    "            nn.ReLU(True),\n",
    "            nn.Flatten(),\n",
    "        )\n",
    "\n",
    "        # Calculate the size of the encoder output\n",
    "        with torch.no_grad():\n",
    "            dummy_input = torch.zeros(1, in_channels, img_size, img_size)\n",
    "            encoder_output_size = self.encoder(dummy_input).shape[1]\n",
    "\n",
    "        # Latent space\n",
    "        self.fc_mu = nn.Linear(encoder_output_size, latent_dim)\n",
    "        self.fc_logvar = nn.Linear(encoder_output_size, latent_dim)\n",
    "\n",
    "        # Decoder\n",
    "        self.decoder_input = nn.Linear(latent_dim, encoder_output_size)\n",
    "\n",
    "        self.decoder_reshape_size = (32, img_size // 4, img_size // 4)\n",
    "\n",
    "        self.decoder = nn.Sequential(\n",
    "            nn.ConvTranspose2d(\n",
    "                32, 16, kernel_size=3, stride=2, padding=1, output_padding=1\n",
    "            ),\n",
    "            nn.ReLU(True),\n",
    "            nn.ConvTranspose2d(\n",
    "                16, 8, kernel_size=3, stride=2, padding=1, output_padding=1\n",
    "            ),\n",
    "            nn.ReLU(True),\n",
    "            nn.ConvTranspose2d(8, in_channels, kernel_size=3, stride=1, padding=1),\n",
    "        )\n",
    "\n",
    "    def encode(self, x):\n",
    "        h = self.encoder(x)\n",
    "        mu, logvar = self.fc_mu(h), self.fc_logvar(h)\n",
    "        return mu, logvar\n",
    "\n",
    "    def reparameterize(self, mu, logvar):\n",
    "        if self.training:\n",
    "            std = torch.exp(0.5 * logvar)\n",
    "            eps = torch.randn_like(std)\n",
    "            return mu + eps * std\n",
    "        else:\n",
    "            return mu\n",
    "\n",
    "    def decode(self, z):\n",
    "        h = self.decoder_input(z)\n",
    "        h = h.view(-1, *self.decoder_reshape_size)\n",
    "        return self.decoder(h)\n",
    "\n",
    "    def forward(self, x):\n",
    "        mu, logvar = self.encode(x)\n",
    "        z = self.reparameterize(mu, logvar)\n",
    "        return self.decode(z), mu, logvar\n",
    "\n",
    "\n",
    "def vae_loss(recon_x, x, mu, logvar):\n",
    "    BCE = F.mse_loss(recon_x, x, reduction=\"sum\")\n",
    "    KLD = -0.5 * torch.sum(1 + logvar - mu.pow(2) - logvar.exp())\n",
    "    return BCE + KLD\n",
    "\n",
    "\n",
    "def train_step(model, x, optimizer):\n",
    "    model.train()\n",
    "    optimizer.zero_grad()\n",
    "    recon_x, mu, logvar = model(x)\n",
    "    loss = vae_loss(recon_x, x, mu, logvar)\n",
    "    loss.backward()\n",
    "    optimizer.step()\n",
    "    return loss.item()\n",
    "\n",
    "\n",
    "# train VAE\n",
    "shape=(1, 16, 16)\n",
    "n_samples=200\n",
    "batch_size=16\n",
    "epochs=16\n",
    "\n",
    "dataset = si4onnx.data.SyntheticDataset(n_samples=n_samples, shape=shape, seed=42)\n",
    "train_loader = DataLoader(dataset, batch_size=batch_size, shuffle=True)\n",
    "\n",
    "model = VAE(in_channels=1, latent_dim=16, img_size=shape[-1]).to(device)\n",
    "optimizer = optim.Adam(model.parameters(), lr=0.01)\n",
    "\n",
    "for epoch in range(epochs):\n",
    "    total_loss = 0\n",
    "    for images, _, _ in train_loader:\n",
    "        images = images.to(device)\n",
    "        loss = train_step(model, images, optimizer)\n",
    "        total_loss += loss\n",
    "\n",
    "    avg_loss = total_loss / len(train_loader)\n",
    "    print(f\"Epoch [{epoch+1}/{epochs}], Loss: {avg_loss:.4f}\")"
   ]
  },
  {
   "cell_type": "markdown",
   "metadata": {},
   "source": [
    "## Save the model as ONNX\n",
    "We will save the model as ONNX format. Please note the model is `.eval()` mode."
   ]
  },
  {
   "cell_type": "code",
   "execution_count": 3,
   "metadata": {},
   "outputs": [],
   "source": [
    "# export onnx\n",
    "model.eval()\n",
    "dummy_input = torch.randn(1, *shape).to(device)\n",
    "model_path = \"./models/vae.onnx\"\n",
    "torch.onnx.export(model, dummy_input, model_path)"
   ]
  },
  {
   "cell_type": "markdown",
   "metadata": {},
   "source": [
    "## Load ONNX model to SI4ONNX\n",
    "1. Construct a model by wrapping the abstract class `si.SI4ONNX`.\n",
    "1. Implement the `construct_hypothesis` method to calculate the observed ROI $\\mathcal{M}_{X^{\\mathrm{obs}}}$ and compute the test statistics.\n",
    "1. The `algorithm` method calculates the interval and the ROI $\\mathcal{M}_{X}$.\n",
    "1. The `model_selector` compares the ROI $\\mathcal{M}_{X^{\\mathrm{obs}}}$ with the $\\mathcal{M}_{X}$ obtained by Parametric Programming to determine whether they match.\n",
    "\n",
    "### Preset Hypotheses\n",
    "si4onnx provides the following hypothesis tests presets:\n",
    "- `BackMeanDiff`  \n",
    "BackgroundMeanDiff is a hypothesis test that compares the mean of the ROI $\\mathcal{M}_{X^{\\mathrm{obs}}}$ with the mean of the other region.\n",
    "\n",
    "- `NeighborMeanDiff`  \n",
    "NeighborhoodMeanDiff is a hypothesis test that compares the mean of the ROI $\\mathcal{M}_{X^{\\mathrm{obs}}}$ with the mean of its neighborhood region.\n",
    "Users can set the neighborhood range using the `neighborhood_range` option.\n",
    "\n",
    "- `ReferenceMeanDiff`  \n",
    "ReferenceMeanDiff is a hypothesis test that compares the mean of the ROI $\\mathcal{M}_{X^{\\mathrm{obs}}}$ with the mean of the same region in a reference image.\n",
    "Users can specify the reference image using the reference_image option.\n",
    "\n",
    "Those hypothesis tests have the argument `post_process` to specify the post-processing method.\n",
    "The post-processing operation can be selected from the following examples:\n",
    "- `Abs`: Absolute value \n",
    "- `InputDiff`: Difference from the output image and input image \n",
    "- `AverageFilter`: Average filter \n",
    "- `GaussianFilter`: Gaussian filter \n",
    "\n",
    "For example of VAE, the post-processing method is `InputDiff` -> `Abs` -> `AverageFilter` to obtain the filtered reconstruction error.\n",
    "\n",
    "The following is an example of using the `BackMeanDiff` hypothesis test."
   ]
  },
  {
   "cell_type": "code",
   "execution_count": 4,
   "metadata": {},
   "outputs": [],
   "source": [
    "from si4onnx.hypothesis import BackMeanDiff, NeighborMeanDiff, ReferenceMeanDiff\n",
    "from si4onnx.operators import InputDiff, Abs, AverageFilter\n",
    "\n",
    "# load onnx model\n",
    "onnx_model = onnx.load(model_path)\n",
    "\n",
    "# load si model\n",
    "si_model = si4onnx.load(\n",
    "    model=onnx_model, \n",
    "    hypothesis=BackMeanDiff(\n",
    "        threshold=0.9,\n",
    "        post_process=[InputDiff(), Abs(), AverageFilter()],\n",
    "    ),\n",
    ") "
   ]
  },
  {
   "cell_type": "markdown",
   "metadata": {},
   "source": [
    "For testing, we create a dataset that follows a standard normal distribution $\\mathcal{N}(0, I)$.\n",
    "The si4onnx provides the `SyntheticDataset` class to create a dataset."
   ]
  },
  {
   "cell_type": "code",
   "execution_count": 5,
   "metadata": {},
   "outputs": [],
   "source": [
    "test_data = si4onnx.data.SyntheticDataset(n_samples=1000, shape=shape, seed=0)\n",
    "test_loader = DataLoader(test_data, batch_size=1)"
   ]
  },
  {
   "cell_type": "markdown",
   "metadata": {},
   "source": [
    "### Selective $p$-value calculation\n",
    "\n",
    "The `inferenece` method calculates the selective $p$-value.\n",
    "The selective $p$-value can be obtained by calling the `p_value` attribute of the result.\n",
    "The inference_mode option can be set to `parametric` or `over_conditioning` to calculate the selective $p$-value.\n",
    "Default is `parametric`.\n",
    "Also, if you set `n_jobs`, you can perform parallel computation.\n",
    "\n",
    "```python\n",
    "result = si_model.inference(input_x, var=1.0, inference_mode=\"parametric\", n_jobs=8)\n",
    "```"
   ]
  },
  {
   "cell_type": "code",
   "execution_count": 6,
   "metadata": {},
   "outputs": [
    {
     "name": "stdout",
     "output_type": "stream",
     "text": [
      "selective p-value: 0.353541117947475\n"
     ]
    }
   ],
   "source": [
    "# inference\n",
    "input_x = next(iter(test_loader))[0]\n",
    "result = si_model.inference(input_x, var=1.0)\n",
    "\n",
    "print('selective p-value:', result.p_value)"
   ]
  },
  {
   "cell_type": "markdown",
   "metadata": {},
   "source": [
    "### Naive $p$-value calculation\n",
    "The `naive_p_value()` method calculates the naive $p$-value.\n",
    "The naive $p$-value have bias by double-dipping, so it is invalid."
   ]
  },
  {
   "cell_type": "code",
   "execution_count": 7,
   "metadata": {},
   "outputs": [
    {
     "name": "stdout",
     "output_type": "stream",
     "text": [
      "naive p-value: 0.1605240593465032\n"
     ]
    }
   ],
   "source": [
    "print(\"naive p-value:\", result.naive_p_value())"
   ]
  },
  {
   "cell_type": "markdown",
   "metadata": {},
   "source": [
    "The following is an example of `NeighborMeanDiff` hypothesis test."
   ]
  },
  {
   "cell_type": "code",
   "execution_count": 8,
   "metadata": {},
   "outputs": [
    {
     "name": "stdout",
     "output_type": "stream",
     "text": [
      "selective p-value: 0.7703587928864365\n"
     ]
    }
   ],
   "source": [
    "si_model = si4onnx.load(\n",
    "    model=onnx_model, \n",
    "    hypothesis=NeighborMeanDiff(\n",
    "        threshold=0.95,\n",
    "        post_process=[InputDiff(), Abs(), AverageFilter()],\n",
    "        use_norm=True,\n",
    "    ),\n",
    ")\n",
    "\n",
    "result = si_model.inference(input_x, var=1.0)\n",
    "print('selective p-value:', result.p_value)"
   ]
  },
  {
   "cell_type": "markdown",
   "metadata": {},
   "source": [
    "The following is an example of `ReferenceMeanDiff` hypothesis test.\n",
    "Note the method `inference` have a input as tuple of input image and reference image `(x, ref_x)`."
   ]
  },
  {
   "cell_type": "code",
   "execution_count": 9,
   "metadata": {},
   "outputs": [
    {
     "name": "stdout",
     "output_type": "stream",
     "text": [
      "selective p-value: 0.6509188409745303\n"
     ]
    }
   ],
   "source": [
    "rng = np.random.default_rng(0)\n",
    "ref_x = rng.random(input_x.shape)\n",
    "\n",
    "si_model = si4onnx.load(\n",
    "    model=onnx_model,\n",
    "    hypothesis=ReferenceMeanDiff(\n",
    "        threshold=0.95,\n",
    "        post_process=[InputDiff(), Abs(), AverageFilter()],\n",
    "        use_norm=True,\n",
    "    ),\n",
    ")\n",
    "\n",
    "result = si_model.inference((input_x, ref_x), var=1.0)\n",
    "print('selective p-value:', result.p_value)"
   ]
  },
  {
   "cell_type": "markdown",
   "metadata": {},
   "source": [
    "## Check the uniformity of $p$-values\n",
    "When the input data follows the null hypothesis, the $p$-value is uniformly distributed."
   ]
  },
  {
   "cell_type": "code",
   "execution_count": 10,
   "metadata": {},
   "outputs": [
    {
     "name": "stderr",
     "output_type": "stream",
     "text": [
      "100%|██████████| 1000/1000 [00:15<00:00, 64.29it/s]\n"
     ]
    }
   ],
   "source": [
    "from tqdm import tqdm\n",
    "from concurrent.futures import ProcessPoolExecutor, as_completed\n",
    "from multiprocessing import cpu_count\n",
    "\n",
    "si_model = si4onnx.load(\n",
    "    model=onnx_model, \n",
    "    hypothesis=BackMeanDiff(\n",
    "        threshold=1.0,\n",
    "        post_process=[InputDiff(), Abs(), AverageFilter()],\n",
    "    ),\n",
    ") \n",
    "\n",
    "with ProcessPoolExecutor(max_workers=cpu_count()) as executor:\n",
    "    futures = [executor.submit(si_model.inference, x, 1.0) for x, _, _ in test_loader]\n",
    "    results = [f.result() for f in tqdm(as_completed(futures), total=len(test_loader))]"
   ]
  },
  {
   "cell_type": "markdown",
   "metadata": {},
   "source": [
    "### Results\n",
    "Selective $p$-value have uniformity in the null hypothesis, but naive $p$-value have bias by double-dipping."
   ]
  },
  {
   "cell_type": "code",
   "execution_count": 11,
   "metadata": {},
   "outputs": [
    {
     "data": {
      "image/png": "[encoded data removed]",
      "text/plain": [
       "<Figure size 800x500 with 1 Axes>"
      ]
     },
     "metadata": {},
     "output_type": "display_data"
    },
    {
     "data": {
      "image/png": "[encoded data removed]",
      "text/plain": [
       "<Figure size 800x500 with 1 Axes>"
      ]
     },
     "metadata": {},
     "output_type": "display_data"
    }
   ],
   "source": [
    "import matplotlib.pyplot as plt\n",
    "\n",
    "selective_p_values = [result.p_value for result in results]\n",
    "naive_p_values = [result.naive_p_value() for result in results]\n",
    "plt.figure(figsize=(8, 5))\n",
    "plt.xlabel('p-value')\n",
    "plt.ylabel('Frequency')\n",
    "plt.title('Selective p-values')\n",
    "plt.hist(selective_p_values)\n",
    "plt.show()\n",
    "plt.close()\n",
    "\n",
    "plt.figure(figsize=(8, 5))\n",
    "plt.xlabel('p-value')\n",
    "plt.ylabel('Frequency')\n",
    "plt.title('Naive p-values')\n",
    "plt.hist(naive_p_values)\n",
    "plt.show()\n",
    "plt.close()"
   ]
  }
 ],
 "metadata": {
  "kernelspec": {
   "display_name": ".venv",
   "language": "python",
   "name": "python3"
  },
  "language_info": {
   "codemirror_mode": {
    "name": "ipython",
    "version": 3
   },
   "file_extension": ".py",
   "mimetype": "text/x-python",
   "name": "python",
   "nbconvert_exporter": "python",
   "pygments_lexer": "ipython3",
   "version": "3.10.13"
  }
 },
 "nbformat": 4,
 "nbformat_minor": 2
}
